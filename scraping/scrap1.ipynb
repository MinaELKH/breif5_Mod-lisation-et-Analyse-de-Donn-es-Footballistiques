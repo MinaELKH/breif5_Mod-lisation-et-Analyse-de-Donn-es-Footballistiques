{
 "cells": [
  {
   "cell_type": "code",
   "execution_count": null,
   "id": "acb9b470",
   "metadata": {},
   "outputs": [],
   "source": [
    "! pip install BeautifulSoup4 pandas selenium"
   ]
  },
  {
   "cell_type": "code",
   "execution_count": null,
   "id": "9cb8f7e0",
   "metadata": {},
   "outputs": [],
   "source": [
    "! pip install webdriver-manager\n"
   ]
  },
  {
   "cell_type": "markdown",
   "id": "9801c2f4",
   "metadata": {},
   "source": [
    "🧩 Étape 2 — Importer les librairies et lancer le navigateur\n"
   ]
  },
  {
   "cell_type": "code",
   "execution_count": 3,
   "id": "288b9b4a",
   "metadata": {},
   "outputs": [],
   "source": [
    "from selenium import webdriver\n",
    "from selenium.webdriver.chrome.service import Service\n",
    "from selenium.webdriver.common.by import By\n",
    "from webdriver_manager.chrome import ChromeDriverManager\n",
    "import pandas as pd\n",
    "import time\n"
   ]
  },
  {
   "cell_type": "code",
   "execution_count": 5,
   "id": "21bfabb3",
   "metadata": {},
   "outputs": [],
   "source": [
    "\n",
    "# 🚀 ChromeDriver téléchargé automatiquement\n",
    "service = Service(ChromeDriverManager().install())\n",
    "driver = webdriver.Chrome(service=service)\n"
   ]
  },
  {
   "cell_type": "code",
   "execution_count": null,
   "id": "9bdbe588",
   "metadata": {},
   "outputs": [
    {
     "name": "stdout",
     "output_type": "stream",
     "text": [
      "✅ Tableau enregistré dans premier_league_table.csv\n"
     ]
    }
   ],
   "source": [
    "\n",
    "\n",
    "# 🌍 Ouvre la page FBref\n",
    "driver.get(\"https://fbref.com/en/comps/9/2024-2025/2024-2025-Premier-League-Stats\")\n",
    "time.sleep(5)\n",
    "\n",
    "# 🔍 Récupère le tableau Premier League\n",
    "table = driver.find_element(By.ID, \"results2024-202591_overall\")\n",
    "rows = table.find_elements(By.TAG_NAME, \"tr\")\n",
    "\n",
    "headers = [th.text for th in rows[0].find_elements(By.TAG_NAME, \"th\")]\n",
    "data = []\n",
    "\n",
    "for row in rows:\n",
    "    cols = row.find_elements(By.TAG_NAME, \"td\")\n",
    "    if len(cols) > 0:\n",
    "        data.append([col.text for col in cols])\n",
    "\n",
    "# 💾 Sauvegarde dans un CSV\n",
    "df = pd.DataFrame(data, columns=headers[1:])\n",
    "df.to_csv(\"premier_league_table.csv\", index=False)\n",
    "\n",
    "print(\"✅ Tableau enregistré dans premier_league_table.csv\")\n",
    "\n",
    "driver.quit()\n",
    "\n",
    "\n"
   ]
  }
 ],
 "metadata": {
  "kernelspec": {
   "display_name": "Python 3",
   "language": "python",
   "name": "python3"
  },
  "language_info": {
   "codemirror_mode": {
    "name": "ipython",
    "version": 3
   },
   "file_extension": ".py",
   "mimetype": "text/x-python",
   "name": "python",
   "nbconvert_exporter": "python",
   "pygments_lexer": "ipython3",
   "version": "3.13.7"
  }
 },
 "nbformat": 4,
 "nbformat_minor": 5
}
