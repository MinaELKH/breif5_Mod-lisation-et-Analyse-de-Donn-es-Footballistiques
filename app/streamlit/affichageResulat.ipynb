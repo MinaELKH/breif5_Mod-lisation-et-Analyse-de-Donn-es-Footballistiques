{
 "cells": [
  {
   "cell_type": "code",
   "execution_count": 3,
   "id": "1b360184",
   "metadata": {},
   "outputs": [],
   "source": [
    "import pandas as pd\n",
    "from sqlalchemy import create_engine\n",
    "import streamlit as st\n",
    "\n",
    "\n",
    "from sqlalchemy import create_engine\n",
    "from urllib.parse import quote_plus\n",
    "\n",
    "USER = \"postgres\"\n",
    "PASSWORD = \"ycode\"\n",
    "HOST = \"localhost\"\n",
    "PORT = \"5432\"\n",
    "DB_NAME = \"breif5_football_db\"\n",
    "\n",
    "# Encoder le mot de passe pour gérer les caractères spéciaux\n",
    "password_encoded = quote_plus(PASSWORD)\n",
    "user_encoded = quote_plus(USER)\n",
    "\n",
    "db_url = f\"postgresql+psycopg2://{user_encoded}:{password_encoded}@{HOST}:{PORT}/{DB_NAME}\"\n",
    "\n",
    "\n",
    "\n",
    "engine = create_engine(db_url)\n"
   ]
  }
 ],
 "metadata": {
  "kernelspec": {
   "display_name": "Python 3",
   "language": "python",
   "name": "python3"
  },
  "language_info": {
   "codemirror_mode": {
    "name": "ipython",
    "version": 3
   },
   "file_extension": ".py",
   "mimetype": "text/x-python",
   "name": "python",
   "nbconvert_exporter": "python",
   "pygments_lexer": "ipython3",
   "version": "3.13.7"
  }
 },
 "nbformat": 4,
 "nbformat_minor": 5
}
